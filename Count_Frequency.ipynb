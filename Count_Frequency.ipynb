{
 "metadata": {
  "language_info": {
   "codemirror_mode": {
    "name": "ipython",
    "version": 3
   },
   "file_extension": ".py",
   "mimetype": "text/x-python",
   "name": "python",
   "nbconvert_exporter": "python",
   "pygments_lexer": "ipython3",
   "version": 3
  },
  "orig_nbformat": 2
 },
 "nbformat": 4,
 "nbformat_minor": 2,
 "cells": [
  {
   "source": [
    "# Count Character & Word Frequency"
   ],
   "cell_type": "markdown",
   "metadata": {}
  },
  {
   "source": [
    "## 1) Character count"
   ],
   "cell_type": "markdown",
   "metadata": {}
  },
  {
   "cell_type": "code",
   "execution_count": null,
   "metadata": {},
   "outputs": [],
   "source": [
    "# Concatenate the script01 and script02 to count all the letters by alphabet at once \n",
    "scripts = [\"script01.txt\", \"script02.txt\"] \n",
    "\n",
    "with open(\"full_script.txt\", \"w\") as outfile:  # with \"with\" statement, open an additional txt file into which the merged scripts will be written \n",
    "    for scrpt in scripts:   # for loop brings each of the two scripts\n",
    "        with open(scrpt, \"r\") as infile:  \n",
    "            content = infile.read()   # open and read them\n",
    "            outfile.write(content) # all content from script01 and 02 are put into the outfile together"
   ]
  },
  {
   "cell_type": "code",
   "execution_count": null,
   "metadata": {},
   "outputs": [],
   "source": [
    "# open and read the full_script created above\n",
    "full = open(\"full_script.txt\", \"r\")\n",
    "full_script = full.read()\n",
    "print(full_script)"
   ]
  },
  {
   "cell_type": "code",
   "execution_count": null,
   "metadata": {},
   "outputs": [],
   "source": [
    "# Make a function to count the frequency of alphabet \n",
    "alphabet = \"abcdefghijklmnopqrstuvwxyz\" # this alphabet string is being used for each letter of the script to be classified into alphabet\n",
    "outcome = {} # the keys of the dictionary go for each alphabet brought from the full_script and values display their frequency\n",
    "\n",
    "def count(script): \n",
    "    for character in script:  # character parameter will be each letter in the script \n",
    "        letter = character.lower()  # convert any potential uppercase to lowercase\n",
    "        if letter in alphabet:  # if the brought letter matches to any of the alphabet,\n",
    "            if letter not in outcome: # and if the alphabet has not been already placed in the dictionary,\n",
    "                outcome[letter] = 1  # add the alphabet to the dictionary's key and assign 1 to it as its value\n",
    "            else:\n",
    "                outcome[letter] += 1 # if the dictionary already have the specific alphabet, just add 1 to the value\n",
    "    return sorted(outcome.items(), key = lambda t:t[1], reverse = True) # return the outcome dictionary in descending order"
   ]
  },
  {
   "cell_type": "code",
   "execution_count": null,
   "metadata": {},
   "outputs": [],
   "source": [
    "output = count(full_script) # save the resulting values with the name \"output\"\n",
    "output "
   ]
  },
  {
   "cell_type": "code",
   "execution_count": null,
   "metadata": {},
   "outputs": [],
   "source": [
    "# put the resulting values into a text file \"parta.txt\"\n",
    "parta = open(\"parta.txt\", \"w\") # open a txt file with a writing mode\n",
    "for val in output:\n",
    "    parta.write(str(val))  # as a text file doesn't allow tuples to be written, convert the tuples to string\n",
    "parta.close()  # close the completed txt file"
   ]
  },
  {
   "cell_type": "code",
   "execution_count": null,
   "metadata": {},
   "outputs": [],
   "source": [
    "# you can see the content of the parta.txt\n",
    "task1 = open(\"parta.txt\", \"r\")\n",
    "task1.read() "
   ]
  },
  {
   "source": [
    "## 2) Word count"
   ],
   "cell_type": "markdown",
   "metadata": {}
  },
  {
   "cell_type": "code",
   "execution_count": null,
   "metadata": {},
   "outputs": [],
   "source": [
    "# Concatenate the script01 and script02 to count all the letters by alphabet at once \n",
    "scripts = [\"script01.txt\", \"script02.txt\"] \n",
    "\n",
    "with open(\"full_script.txt\", \"w\") as outfile:  # with \"with\" statement, open an additional txt file into which the merged scripts will be written \n",
    "    for scrpt in scripts:   # for loop brings each of the two scripts\n",
    "        with open(scrpt, \"r\") as infile:  \n",
    "            content = infile.read()   # open and read them\n",
    "            outfile.write(content) # all content from script01 and 02 are put into the outfile together"
   ]
  },
  {
   "cell_type": "code",
   "execution_count": null,
   "metadata": {},
   "outputs": [],
   "source": [
    "# open and read the full_script created above\n",
    "full = open(\"full_script.txt\", \"r\")\n",
    "full_script = full.read()"
   ]
  },
  {
   "cell_type": "code",
   "execution_count": null,
   "metadata": {},
   "outputs": [],
   "source": [
    "filtering = \"'-abcdefghijklmnopqrstuvwxyz\" # reset the filtering string to keep the words with apostrophe and hyphen\n",
    "word_count = {}\n",
    "def word_counter(script):\n",
    "    script = script.lower() # convert the letters of an input sript to lowercase\n",
    "    for letter in script:\n",
    "        if letter not in filtering:\n",
    "            script = script.replace(letter, \" \") # any characters excluding the filtering is replaced with a space to completely separate the words when these are splitted below \n",
    "    split_word = script.split(\" \") # split all words by space\n",
    "    for word in split_word:\n",
    "        if word not in word_count: # and if the alphabet has not been already placed in the dictionary,\n",
    "            word_count[word] = 1  # add the alphabet to the dictionary's key and assign 1 to it as its value\n",
    "        else:\n",
    "            word_count[word] += 1 # if the dictionary already have the specific alphabet, just add 1 to the value\n",
    "    del word_count['']  # delete the counted space\n",
    "    return sorted(word_count.items(), key = lambda t:t[1], reverse = True) # return the outcome dictionary in descending orde\n",
    "\n",
    "partb_output2 = word_counter(full_script) \n",
    "partb_output2"
   ]
  },
  {
   "cell_type": "code",
   "execution_count": null,
   "metadata": {},
   "outputs": [],
   "source": [
    "# put the top ten most frequently occuring words into a text file \"partb.txt\"\n",
    "partb = open(\"partb.txt\", \"w\") \n",
    "for val in partb_output2[:10]: # get the 1st to 10th words from the dictionary sorted in descending order\n",
    "    partb.write(str(val))  # as a text file doesn't allow tuples to be written, convert the tuples to string\n",
    "partb.close()  # close the completed txt file"
   ]
  },
  {
   "cell_type": "code",
   "execution_count": null,
   "metadata": {},
   "outputs": [],
   "source": [
    "# read the partb.txt\n",
    "task2 = open(\"partb.txt\", \"r\")\n",
    "task2.read()"
   ]
  }
 ]
}